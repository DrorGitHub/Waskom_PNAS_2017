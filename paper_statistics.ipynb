{
 "cells": [
  {
   "cell_type": "markdown",
   "metadata": {},
   "source": [
    "# Statistical Results"
   ]
  },
  {
   "cell_type": "code",
   "execution_count": 1,
   "metadata": {
    "collapsed": true
   },
   "outputs": [],
   "source": [
    "from __future__ import print_function\n",
    "import numpy as np\n",
    "import pandas as pd\n",
    "from scipy import stats\n",
    "from IPython.display import HTML, display\n",
    "import moss\n",
    "import lyman"
   ]
  },
  {
   "cell_type": "markdown",
   "metadata": {},
   "source": [
    "## Data ingest"
   ]
  },
  {
   "cell_type": "code",
   "execution_count": 2,
   "metadata": {
    "collapsed": false
   },
   "outputs": [],
   "source": [
    "subjects = {}\n",
    "subjects[\"dots\"] = lyman.determine_subjects([\"dots_subjects\"])\n",
    "subjects[\"sticks\"] = lyman.determine_subjects([\"sticks_subjects\"])\n",
    "subjects[\"rest\"] = lyman.determine_subjects([\"rest_subjects\"])"
   ]
  },
  {
   "cell_type": "code",
   "execution_count": 3,
   "metadata": {
    "collapsed": false
   },
   "outputs": [],
   "source": [
    "decoding_ftemp = \"decoding_analysis/{}_{}_{}.pkz\"\n",
    "decoding_results = {}\n",
    "for roi in [\"ifs\", \"mfc\"]:\n",
    "    for exp in [\"dots\", \"sticks\"]:\n",
    "        for subj in subjects[exp]:\n",
    "            key = subj, exp, roi\n",
    "            decoding_results[key] = moss.load_pkl(decoding_ftemp.format(*key))"
   ]
  },
  {
   "cell_type": "code",
   "execution_count": 4,
   "metadata": {
    "collapsed": false
   },
   "outputs": [],
   "source": [
    "spatial_ftemp = \"spatial_analysis/{}_{}_{}.pkz\"\n",
    "spatial_results = {}\n",
    "for exp in [\"dots\", \"sticks\"]:\n",
    "    for subj in subjects[exp]:\n",
    "        key = subj, exp, \"ifs\"\n",
    "        spatial_results[key] = moss.load_pkl(spatial_ftemp.format(*key))"
   ]
  },
  {
   "cell_type": "code",
   "execution_count": 5,
   "metadata": {
    "collapsed": false
   },
   "outputs": [],
   "source": [
    "correlation_ftemp = \"correlation_analysis/{}_{}_{}.pkz\"\n",
    "correlation_results = {}\n",
    "for exp in [\"dots\", \"sticks\", \"rest\"]:\n",
    "    for subj in subjects[exp]:\n",
    "        key = subj, exp, \"ifs\"\n",
    "        correlation_results[key] = moss.load_pkl(correlation_ftemp.format(*key))"
   ]
  },
  {
   "cell_type": "code",
   "execution_count": 6,
   "metadata": {
    "collapsed": true
   },
   "outputs": [],
   "source": [
    "def field_vector(results, field, exp, roi=\"ifs\", func=None):\n",
    "    \"\"\"Pull out a data vector from a list of results objects.\"\"\"\n",
    "    out = {}\n",
    "    subj_list = subjects[exp]\n",
    "    for subj in subj_list:\n",
    "        val = getattr(results[(subj, exp, roi)], field)\n",
    "        if func is not None:\n",
    "            val = func(val)\n",
    "        out[subj] = val\n",
    "    return pd.Series(out, name=field)"
   ]
  },
  {
   "cell_type": "markdown",
   "metadata": {},
   "source": [
    "---"
   ]
  },
  {
   "cell_type": "markdown",
   "metadata": {},
   "source": [
    "## Results formatting"
   ]
  },
  {
   "cell_type": "code",
   "execution_count": 7,
   "metadata": {
    "collapsed": false
   },
   "outputs": [],
   "source": [
    "def title(text, level=4):\n",
    "    display(HTML(\"<h{}>{}</h{}>\".format(level, text, level)))\n",
    "\n",
    "def mean_pm_sd(vector, fmt=\"\", label=\"\"):\n",
    "    m = (\"{:\" + fmt + \"}\").format(np.mean(vector))\n",
    "    sd = (\"{:\" + fmt + \"}\").format(np.std(vector))\n",
    "    text = \"{} {} &plusmn; {}\".format(label, m, sd)\n",
    "    display(HTML(text))\n",
    "\n",
    "def ttest(dof, t, p, label=\"\"):\n",
    "    text = \"{} <em>t</em>({}) = {:.2f}; <em>P</em> = {:.3g}\".format(label, dof, t, p)\n",
    "    display(HTML(text))\n",
    "\n",
    "def sig_subs(pctiles, label=\"\", thresh=95):\n",
    "    sig = (pctiles > thresh).sum()\n",
    "    tot = len(pctiles)\n",
    "    text = \"{} {}/{} subjects <em>P</em> &lt; 0.05\".format(label, sig, tot)\n",
    "    display(HTML(text))"
   ]
  },
  {
   "cell_type": "markdown",
   "metadata": {},
   "source": [
    "----\n",
    "\n",
    "## Decoding analyses"
   ]
  },
  {
   "cell_type": "markdown",
   "metadata": {},
   "source": [
    "### Group tests against chance"
   ]
  },
  {
   "cell_type": "code",
   "execution_count": 8,
   "metadata": {
    "collapsed": false
   },
   "outputs": [
    {
     "data": {
      "text/html": [
       "<h4>Experiment: Dots (IFS)</h4>"
      ],
      "text/plain": [
       "<IPython.core.display.HTML object>"
      ]
     },
     "metadata": {},
     "output_type": "display_data"
    },
    {
     "data": {
      "text/html": [
       "Accuracy 72.2% &plusmn; 7.3%"
      ],
      "text/plain": [
       "<IPython.core.display.HTML object>"
      ]
     },
     "metadata": {},
     "output_type": "display_data"
    },
    {
     "data": {
      "text/html": [
       " <em>t</em>(13) = 11.22; <em>P</em> = 4.68e-08"
      ],
      "text/plain": [
       "<IPython.core.display.HTML object>"
      ]
     },
     "metadata": {},
     "output_type": "display_data"
    },
    {
     "data": {
      "text/html": [
       "<h4>Experiment: Dots (MFC)</h4>"
      ],
      "text/plain": [
       "<IPython.core.display.HTML object>"
      ]
     },
     "metadata": {},
     "output_type": "display_data"
    },
    {
     "data": {
      "text/html": [
       "Accuracy 57.3% &plusmn; 6.9%"
      ],
      "text/plain": [
       "<IPython.core.display.HTML object>"
      ]
     },
     "metadata": {},
     "output_type": "display_data"
    },
    {
     "data": {
      "text/html": [
       " <em>t</em>(13) = 3.89; <em>P</em> = 0.00187"
      ],
      "text/plain": [
       "<IPython.core.display.HTML object>"
      ]
     },
     "metadata": {},
     "output_type": "display_data"
    },
    {
     "data": {
      "text/html": [
       "<h4>Experiment: Sticks (IFS)</h4>"
      ],
      "text/plain": [
       "<IPython.core.display.HTML object>"
      ]
     },
     "metadata": {},
     "output_type": "display_data"
    },
    {
     "data": {
      "text/html": [
       "Accuracy 69.1% &plusmn; 6.8%"
      ],
      "text/plain": [
       "<IPython.core.display.HTML object>"
      ]
     },
     "metadata": {},
     "output_type": "display_data"
    },
    {
     "data": {
      "text/html": [
       " <em>t</em>(5) = 6.46; <em>P</em> = 0.00132"
      ],
      "text/plain": [
       "<IPython.core.display.HTML object>"
      ]
     },
     "metadata": {},
     "output_type": "display_data"
    },
    {
     "data": {
      "text/html": [
       "<h4>Experiment: Sticks (MFC)</h4>"
      ],
      "text/plain": [
       "<IPython.core.display.HTML object>"
      ]
     },
     "metadata": {},
     "output_type": "display_data"
    },
    {
     "data": {
      "text/html": [
       "Accuracy 54.0% &plusmn; 5.6%"
      ],
      "text/plain": [
       "<IPython.core.display.HTML object>"
      ]
     },
     "metadata": {},
     "output_type": "display_data"
    },
    {
     "data": {
      "text/html": [
       " <em>t</em>(5) = 1.58; <em>P</em> = 0.176"
      ],
      "text/plain": [
       "<IPython.core.display.HTML object>"
      ]
     },
     "metadata": {},
     "output_type": "display_data"
    }
   ],
   "source": [
    "for exp in [\"dots\", \"sticks\"]:\n",
    "    for roi in [\"ifs\", \"mfc\"]:\n",
    "        title(\"Experiment: {} ({})\".format(exp.capitalize(), roi.upper()))\n",
    "        accs = field_vector(decoding_results, \"acc\", exp, roi)\n",
    "        chance = field_vector(decoding_results, \"chance\", exp, roi)\n",
    "        mean_pm_sd(accs, \".1%\", \"Accuracy\")\n",
    "        t, p = stats.ttest_1samp(accs - chance, 0)\n",
    "        dof = len(accs) - 1\n",
    "        ttest(dof, t, p)"
   ]
  },
  {
   "cell_type": "markdown",
   "metadata": {},
   "source": [
    "### Individual subject tests against chance"
   ]
  },
  {
   "cell_type": "code",
   "execution_count": 9,
   "metadata": {
    "collapsed": false
   },
   "outputs": [
    {
     "data": {
      "text/html": [
       "<h4>Experiment: Dots (IFS)</h4>"
      ],
      "text/plain": [
       "<IPython.core.display.HTML object>"
      ]
     },
     "metadata": {},
     "output_type": "display_data"
    },
    {
     "data": {
      "text/html": [
       " 13/14 subjects <em>P</em> &lt; 0.05"
      ],
      "text/plain": [
       "<IPython.core.display.HTML object>"
      ]
     },
     "metadata": {},
     "output_type": "display_data"
    },
    {
     "data": {
      "text/html": [
       "<h4>Experiment: Dots (MFC)</h4>"
      ],
      "text/plain": [
       "<IPython.core.display.HTML object>"
      ]
     },
     "metadata": {},
     "output_type": "display_data"
    },
    {
     "data": {
      "text/html": [
       " 6/14 subjects <em>P</em> &lt; 0.05"
      ],
      "text/plain": [
       "<IPython.core.display.HTML object>"
      ]
     },
     "metadata": {},
     "output_type": "display_data"
    },
    {
     "data": {
      "text/html": [
       "<h4>Experiment: Sticks (IFS)</h4>"
      ],
      "text/plain": [
       "<IPython.core.display.HTML object>"
      ]
     },
     "metadata": {},
     "output_type": "display_data"
    },
    {
     "data": {
      "text/html": [
       " 6/6 subjects <em>P</em> &lt; 0.05"
      ],
      "text/plain": [
       "<IPython.core.display.HTML object>"
      ]
     },
     "metadata": {},
     "output_type": "display_data"
    },
    {
     "data": {
      "text/html": [
       "<h4>Experiment: Sticks (MFC)</h4>"
      ],
      "text/plain": [
       "<IPython.core.display.HTML object>"
      ]
     },
     "metadata": {},
     "output_type": "display_data"
    },
    {
     "data": {
      "text/html": [
       " 2/6 subjects <em>P</em> &lt; 0.05"
      ],
      "text/plain": [
       "<IPython.core.display.HTML object>"
      ]
     },
     "metadata": {},
     "output_type": "display_data"
    }
   ],
   "source": [
    "for exp in [\"dots\", \"sticks\"]:\n",
    "    for roi in [\"ifs\", \"mfc\"]:\n",
    "        title(\"Experiment: {} ({})\".format(exp.capitalize(), roi.upper()))\n",
    "        acc_pctiles = field_vector(decoding_results, \"acc_pctile\", exp, roi)\n",
    "        sig_subs(acc_pctiles)"
   ]
  },
  {
   "cell_type": "markdown",
   "metadata": {},
   "source": [
    "### Group tests between ROIs"
   ]
  },
  {
   "cell_type": "code",
   "execution_count": 10,
   "metadata": {
    "collapsed": false
   },
   "outputs": [
    {
     "data": {
      "text/html": [
       "<h4>Experiment: Dots</h4>"
      ],
      "text/plain": [
       "<IPython.core.display.HTML object>"
      ]
     },
     "metadata": {},
     "output_type": "display_data"
    },
    {
     "data": {
      "text/html": [
       " <em>t</em>(13) = 7.09; <em>P</em> = 8.18e-06"
      ],
      "text/plain": [
       "<IPython.core.display.HTML object>"
      ]
     },
     "metadata": {},
     "output_type": "display_data"
    },
    {
     "data": {
      "text/html": [
       "<h4>Experiment: Sticks</h4>"
      ],
      "text/plain": [
       "<IPython.core.display.HTML object>"
      ]
     },
     "metadata": {},
     "output_type": "display_data"
    },
    {
     "data": {
      "text/html": [
       " <em>t</em>(5) = 3.11; <em>P</em> = 0.0266"
      ],
      "text/plain": [
       "<IPython.core.display.HTML object>"
      ]
     },
     "metadata": {},
     "output_type": "display_data"
    }
   ],
   "source": [
    "for exp in [\"dots\", \"sticks\"]:\n",
    "    title(\"Experiment: \" + exp.capitalize())\n",
    "    ifs = field_vector(decoding_results, \"acc\", exp, \"ifs\")\n",
    "    mfc = field_vector(decoding_results, \"acc\", exp, \"mfc\")\n",
    "    t, p = stats.ttest_rel(ifs, mfc)\n",
    "    dof = len(ifs) - 1\n",
    "    ttest(dof, t, p)"
   ]
  },
  {
   "cell_type": "markdown",
   "metadata": {},
   "source": [
    "### Context preference cluster sizes"
   ]
  },
  {
   "cell_type": "code",
   "execution_count": 11,
   "metadata": {
    "collapsed": false
   },
   "outputs": [
    {
     "data": {
      "text/html": [
       "<h4>Experiment: Dots</h4>"
      ],
      "text/plain": [
       "<IPython.core.display.HTML object>"
      ]
     },
     "metadata": {},
     "output_type": "display_data"
    },
    {
     "data": {
      "text/html": [
       "Cluster size:  13.87 &plusmn; 1.74"
      ],
      "text/plain": [
       "<IPython.core.display.HTML object>"
      ]
     },
     "metadata": {},
     "output_type": "display_data"
    },
    {
     "data": {
      "text/html": [
       "<h4>Experiment: Sticks</h4>"
      ],
      "text/plain": [
       "<IPython.core.display.HTML object>"
      ]
     },
     "metadata": {},
     "output_type": "display_data"
    },
    {
     "data": {
      "text/html": [
       "Cluster size:  12.11 &plusmn; 2.28"
      ],
      "text/plain": [
       "<IPython.core.display.HTML object>"
      ]
     },
     "metadata": {},
     "output_type": "display_data"
    }
   ],
   "source": [
    "for exp in [\"dots\", \"sticks\"]:\n",
    "    title(\"Experiment: \" + exp.capitalize())\n",
    "    intersect_point = field_vector(spatial_results, \"intersect\", exp, func=lambda v: v[0])\n",
    "    mean_pm_sd(intersect_point, \".2f\", \"Cluster size: \")"
   ]
  },
  {
   "cell_type": "markdown",
   "metadata": {},
   "source": [
    "----"
   ]
  },
  {
   "cell_type": "markdown",
   "metadata": {},
   "source": [
    "## Subnetwork analyses"
   ]
  },
  {
   "cell_type": "markdown",
   "metadata": {},
   "source": [
    "### MDS variance explained"
   ]
  },
  {
   "cell_type": "code",
   "execution_count": 12,
   "metadata": {
    "collapsed": false
   },
   "outputs": [
    {
     "data": {
      "text/html": [
       "<h4>Experiment: Dots</h4>"
      ],
      "text/plain": [
       "<IPython.core.display.HTML object>"
      ]
     },
     "metadata": {},
     "output_type": "display_data"
    },
    {
     "data": {
      "text/html": [
       "MDS variance explained:  26.3% &plusmn; 4.9%"
      ],
      "text/plain": [
       "<IPython.core.display.HTML object>"
      ]
     },
     "metadata": {},
     "output_type": "display_data"
    },
    {
     "data": {
      "text/html": [
       "<h4>Experiment: Sticks</h4>"
      ],
      "text/plain": [
       "<IPython.core.display.HTML object>"
      ]
     },
     "metadata": {},
     "output_type": "display_data"
    },
    {
     "data": {
      "text/html": [
       "MDS variance explained:  10.3% &plusmn; 1.8%"
      ],
      "text/plain": [
       "<IPython.core.display.HTML object>"
      ]
     },
     "metadata": {},
     "output_type": "display_data"
    },
    {
     "data": {
      "text/html": [
       "<h4>Experiment: Rest</h4>"
      ],
      "text/plain": [
       "<IPython.core.display.HTML object>"
      ]
     },
     "metadata": {},
     "output_type": "display_data"
    },
    {
     "data": {
      "text/html": [
       "MDS variance explained:  12.1% &plusmn; 2.6%"
      ],
      "text/plain": [
       "<IPython.core.display.HTML object>"
      ]
     },
     "metadata": {},
     "output_type": "display_data"
    }
   ],
   "source": [
    "for exp in [\"dots\", \"sticks\", \"rest\"]:\n",
    "    title(\"Experiment: \" + exp.capitalize())\n",
    "    varexp = field_vector(correlation_results, \"mds_varexp\", exp)\n",
    "    mean_pm_sd(varexp, \".1%\", \"MDS variance explained: \")"
   ]
  },
  {
   "cell_type": "markdown",
   "metadata": {},
   "source": [
    "### Tail correlation strength: group tests"
   ]
  },
  {
   "cell_type": "code",
   "execution_count": 13,
   "metadata": {
    "collapsed": false
   },
   "outputs": [
    {
     "data": {
      "text/html": [
       "<h4>Experiment: Dots</h4>"
      ],
      "text/plain": [
       "<IPython.core.display.HTML object>"
      ]
     },
     "metadata": {},
     "output_type": "display_data"
    },
    {
     "data": {
      "text/html": [
       "Ratio:  1.97 &plusmn; 0.68"
      ],
      "text/plain": [
       "<IPython.core.display.HTML object>"
      ]
     },
     "metadata": {},
     "output_type": "display_data"
    },
    {
     "data": {
      "text/html": [
       " <em>t</em>(13) = 8.05; <em>P</em> = 2.08e-06"
      ],
      "text/plain": [
       "<IPython.core.display.HTML object>"
      ]
     },
     "metadata": {},
     "output_type": "display_data"
    },
    {
     "data": {
      "text/html": [
       "<h4>Experiment: Sticks</h4>"
      ],
      "text/plain": [
       "<IPython.core.display.HTML object>"
      ]
     },
     "metadata": {},
     "output_type": "display_data"
    },
    {
     "data": {
      "text/html": [
       "Ratio:  1.73 &plusmn; 0.47"
      ],
      "text/plain": [
       "<IPython.core.display.HTML object>"
      ]
     },
     "metadata": {},
     "output_type": "display_data"
    },
    {
     "data": {
      "text/html": [
       " <em>t</em>(5) = 4.58; <em>P</em> = 0.00596"
      ],
      "text/plain": [
       "<IPython.core.display.HTML object>"
      ]
     },
     "metadata": {},
     "output_type": "display_data"
    },
    {
     "data": {
      "text/html": [
       "<h4>Experiment: Rest</h4>"
      ],
      "text/plain": [
       "<IPython.core.display.HTML object>"
      ]
     },
     "metadata": {},
     "output_type": "display_data"
    },
    {
     "data": {
      "text/html": [
       "Ratio:  1.68 &plusmn; 0.46"
      ],
      "text/plain": [
       "<IPython.core.display.HTML object>"
      ]
     },
     "metadata": {},
     "output_type": "display_data"
    },
    {
     "data": {
      "text/html": [
       " <em>t</em>(5) = 3.67; <em>P</em> = 0.0144"
      ],
      "text/plain": [
       "<IPython.core.display.HTML object>"
      ]
     },
     "metadata": {},
     "output_type": "display_data"
    }
   ],
   "source": [
    "for exp in [\"dots\", \"sticks\", \"rest\"]:\n",
    "    title(\"Experiment: \" + exp.capitalize())\n",
    "    same = field_vector(correlation_results, \"tail_corrs\", exp, func=lambda v: v[0])\n",
    "    diff = field_vector(correlation_results, \"tail_corrs\", exp, func=lambda v: v[1])\n",
    "    ratio = same / diff\n",
    "    mean_pm_sd(ratio, \".2f\", \"Ratio: \")\n",
    "    t, p = stats.ttest_rel(same, diff)\n",
    "    dof = len(same) - 1\n",
    "    ttest(dof, t, p)"
   ]
  },
  {
   "cell_type": "markdown",
   "metadata": {},
   "source": [
    "### Tail correlation strength: subject tests"
   ]
  },
  {
   "cell_type": "code",
   "execution_count": 14,
   "metadata": {
    "collapsed": false
   },
   "outputs": [
    {
     "data": {
      "text/html": [
       "<h4>Experiment: Dots</h4>"
      ],
      "text/plain": [
       "<IPython.core.display.HTML object>"
      ]
     },
     "metadata": {},
     "output_type": "display_data"
    },
    {
     "data": {
      "text/html": [
       " 14/14 subjects <em>P</em> &lt; 0.05"
      ],
      "text/plain": [
       "<IPython.core.display.HTML object>"
      ]
     },
     "metadata": {},
     "output_type": "display_data"
    },
    {
     "data": {
      "text/html": [
       "<h4>Experiment: Sticks</h4>"
      ],
      "text/plain": [
       "<IPython.core.display.HTML object>"
      ]
     },
     "metadata": {},
     "output_type": "display_data"
    },
    {
     "data": {
      "text/html": [
       " 6/6 subjects <em>P</em> &lt; 0.05"
      ],
      "text/plain": [
       "<IPython.core.display.HTML object>"
      ]
     },
     "metadata": {},
     "output_type": "display_data"
    },
    {
     "data": {
      "text/html": [
       "<h4>Experiment: Rest</h4>"
      ],
      "text/plain": [
       "<IPython.core.display.HTML object>"
      ]
     },
     "metadata": {},
     "output_type": "display_data"
    },
    {
     "data": {
      "text/html": [
       " 6/6 subjects <em>P</em> &lt; 0.05"
      ],
      "text/plain": [
       "<IPython.core.display.HTML object>"
      ]
     },
     "metadata": {},
     "output_type": "display_data"
    }
   ],
   "source": [
    "for exp in [\"dots\", \"sticks\", \"rest\"]:\n",
    "    title(\"Experiment: \" + exp.capitalize())\n",
    "    pctiles = field_vector(correlation_results, \"corr_pctile\", exp)\n",
    "    sig_subs(pctiles, thresh=97.5)"
   ]
  },
  {
   "cell_type": "markdown",
   "metadata": {},
   "source": [
    "### Similarity of correlation structures"
   ]
  },
  {
   "cell_type": "code",
   "execution_count": 15,
   "metadata": {
    "collapsed": true
   },
   "outputs": [],
   "source": [
    "def upper_tri(mat):\n",
    "    idx = np.triu_indices_from(mat, 1)\n",
    "    return mat[idx]"
   ]
  },
  {
   "cell_type": "code",
   "execution_count": 16,
   "metadata": {
    "collapsed": false
   },
   "outputs": [],
   "source": [
    "subj_rs = pd.Series(dtype=np.float)\n",
    "subj_mantels = pd.Series(dtype=np.float)\n",
    "rs = np.random.RandomState(sum(map(ord, \"mantel\")))\n",
    "for subj in subjects[\"sticks\"]:\n",
    "\n",
    "    task = correlation_results[(subj, \"sticks\", \"ifs\")].corrmat\n",
    "    rest = correlation_results[(subj, \"rest\", \"ifs\")].corrmat\n",
    "\n",
    "    r, p = stats.pearsonr(upper_tri(task), upper_tri(rest))\n",
    "    subj_rs[subj] = r\n",
    "    \n",
    "    null_dist = []\n",
    "    for _ in xrange(100):\n",
    "        n = len(task)\n",
    "        perm = rs.permutation(np.arange(n))\n",
    "        task_triu = upper_tri(task[perm][:, perm])\n",
    "        rest_triu = upper_tri(rest)\n",
    "        null_dist.append(stats.pearsonr(task_triu, rest_triu)[0])\n",
    "    pctile = stats.percentileofscore(null_dist, r)\n",
    "    subj_mantels[subj] = pctile    "
   ]
  },
  {
   "cell_type": "code",
   "execution_count": 17,
   "metadata": {
    "collapsed": false
   },
   "outputs": [
    {
     "data": {
      "text/html": [
       "Correlation matrix similarity:  0.83 &plusmn; 0.03"
      ],
      "text/plain": [
       "<IPython.core.display.HTML object>"
      ]
     },
     "metadata": {},
     "output_type": "display_data"
    },
    {
     "data": {
      "text/html": [
       " <em>t</em>(5) = 73.57; <em>P</em> = 8.79e-09"
      ],
      "text/plain": [
       "<IPython.core.display.HTML object>"
      ]
     },
     "metadata": {},
     "output_type": "display_data"
    },
    {
     "data": {
      "text/html": [
       "Mantel test:  6/6 subjects <em>P</em> &lt; 0.05"
      ],
      "text/plain": [
       "<IPython.core.display.HTML object>"
      ]
     },
     "metadata": {},
     "output_type": "display_data"
    }
   ],
   "source": [
    "m, sd = np.mean(subj_rs), np.std(subj_rs)\n",
    "t, p = stats.ttest_1samp(subj_rs, 0)\n",
    "dof = len(subj_rs) - 1\n",
    "mean_pm_sd(subj_rs, \".2f\", \"Correlation matrix similarity: \")\n",
    "ttest(dof, t, p)\n",
    "sig_subs(subj_mantels, \"Mantel test: \")"
   ]
  },
  {
   "cell_type": "markdown",
   "metadata": {},
   "source": [
    "### Subnetworks strength in first resting state run"
   ]
  },
  {
   "cell_type": "code",
   "execution_count": 18,
   "metadata": {
    "collapsed": false
   },
   "outputs": [
    {
     "data": {
      "text/html": [
       " 6/6 subjects <em>P</em> &lt; 0.05"
      ],
      "text/plain": [
       "<IPython.core.display.HTML object>"
      ]
     },
     "metadata": {},
     "output_type": "display_data"
    }
   ],
   "source": [
    "subj_pctiles = field_vector(correlation_results, \"corr_times_pctiles\", \"rest\",\n",
    "                            func=lambda v: v[0])\n",
    "sig_subs(subj_pctiles)"
   ]
  },
  {
   "cell_type": "markdown",
   "metadata": {},
   "source": [
    "### Long-range subnetworks"
   ]
  },
  {
   "cell_type": "code",
   "execution_count": 19,
   "metadata": {
    "collapsed": false
   },
   "outputs": [
    {
     "data": {
      "text/html": [
       "<h4>Experiment: Dots (2D)</h4>"
      ],
      "text/plain": [
       "<IPython.core.display.HTML object>"
      ]
     },
     "metadata": {},
     "output_type": "display_data"
    },
    {
     "data": {
      "text/html": [
       " 14/14 subjects <em>P</em> &lt; 0.05"
      ],
      "text/plain": [
       "<IPython.core.display.HTML object>"
      ]
     },
     "metadata": {},
     "output_type": "display_data"
    },
    {
     "data": {
      "text/html": [
       "<h4>Experiment: Dots (3D)</h4>"
      ],
      "text/plain": [
       "<IPython.core.display.HTML object>"
      ]
     },
     "metadata": {},
     "output_type": "display_data"
    },
    {
     "data": {
      "text/html": [
       " 12/14 subjects <em>P</em> &lt; 0.05"
      ],
      "text/plain": [
       "<IPython.core.display.HTML object>"
      ]
     },
     "metadata": {},
     "output_type": "display_data"
    },
    {
     "data": {
      "text/html": [
       "<h4>Experiment: Sticks (2D)</h4>"
      ],
      "text/plain": [
       "<IPython.core.display.HTML object>"
      ]
     },
     "metadata": {},
     "output_type": "display_data"
    },
    {
     "data": {
      "text/html": [
       " 6/6 subjects <em>P</em> &lt; 0.05"
      ],
      "text/plain": [
       "<IPython.core.display.HTML object>"
      ]
     },
     "metadata": {},
     "output_type": "display_data"
    },
    {
     "data": {
      "text/html": [
       "<h4>Experiment: Sticks (3D)</h4>"
      ],
      "text/plain": [
       "<IPython.core.display.HTML object>"
      ]
     },
     "metadata": {},
     "output_type": "display_data"
    },
    {
     "data": {
      "text/html": [
       " 5/6 subjects <em>P</em> &lt; 0.05"
      ],
      "text/plain": [
       "<IPython.core.display.HTML object>"
      ]
     },
     "metadata": {},
     "output_type": "display_data"
    }
   ],
   "source": [
    "for exp in [\"dots\", \"sticks\"]:\n",
    "    for dim in [\"2D\", \"3D\"]:\n",
    "        title(\"Experiment: \" + exp.capitalize() + \" ({})\".format(dim))\n",
    "        subj_pctiles = field_vector(correlation_results, \"corr_distance_pctiles\", exp,\n",
    "                                    func=lambda v: v[dim][-1])\n",
    "        sig_subs(subj_pctiles)"
   ]
  },
  {
   "cell_type": "code",
   "execution_count": null,
   "metadata": {
    "collapsed": true
   },
   "outputs": [],
   "source": []
  }
 ],
 "metadata": {
  "anaconda-cloud": {},
  "kernelspec": {
   "display_name": "Python [conda env:subnet]",
   "language": "python",
   "name": "conda-env-subnet-py"
  },
  "language_info": {
   "codemirror_mode": {
    "name": "ipython",
    "version": 2
   },
   "file_extension": ".py",
   "mimetype": "text/x-python",
   "name": "python",
   "nbconvert_exporter": "python",
   "pygments_lexer": "ipython2",
   "version": "2.7.12"
  }
 },
 "nbformat": 4,
 "nbformat_minor": 1
}
